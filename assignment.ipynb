{
 "cells": [
  {
   "cell_type": "code",
   "execution_count": 5,
   "metadata": {},
   "outputs": [
    {
     "name": "stdout",
     "output_type": "stream",
     "text": [
      "\n",
      "Hello, ali! Let's explore your favorite numbers:\n",
      "\n",
      "The number 5 is odd.\n",
      "The number 4 is even.\n",
      "The number 2 is even.\n",
      "The number 5 and its square: (5, 25)\n",
      "The number 4 and its square: (4, 16)\n",
      "The number 2 and its square: (2, 4)\n",
      "\n",
      "Amazing! The sum of your favorite numbers is: 11\n",
      "The number 11 is a prime number!\n"
     ]
    }
   ],
   "source": [
    "name=input(\"Enter your name:\")\n",
    "\n",
    "favorite_numbers = []\n",
    "\n",
    "\n",
    "for i in range(1, 4):\n",
    "    number = int(input(f\"Enter your favorite number {i}: \"))\n",
    "    favorite_numbers.append(number)\n",
    "\n",
    "print(f\"\\nHello, {name}! Let's explore your favorite numbers:\\n\")\n",
    "\n",
    "for num in favorite_numbers:\n",
    "    # Check if the number is even or odd\n",
    "    if num % 2 == 0:\n",
    "        print(f\"The number {num} is even.\")\n",
    "    else:\n",
    "        print(f\"The number {num} is odd.\")\n",
    "\n",
    "squares = [(num, num ** 2) for num in favorite_numbers]\n",
    "\n",
    "for num, square in squares:\n",
    "    print(f\"The number {num} and its square: ({num}, {square})\")\n",
    "\n",
    "total_sum = sum(favorite_numbers)\n",
    "print(f\"\\nAmazing! The sum of your favorite numbers is: {total_sum}\")       \n",
    "   \n",
    "is_prime = True\n",
    "\n",
    "if total_sum < 2:\n",
    "    is_prime = False\n",
    "else:\n",
    "    for i in range(2, int(total_sum ** 0.5) + 1):\n",
    "        if total_sum % i == 0:\n",
    "            is_prime = False\n",
    "            break\n",
    "\n",
    "# Display whether total_sum is prime\n",
    "if is_prime:\n",
    "    print(f\"The number {total_sum} is a prime number!\")\n",
    "else:\n",
    "    print(f\"The number {total_sum} is not a prime number.\")\n",
    "\n"
   ]
  }
 ],
 "metadata": {
  "kernelspec": {
   "display_name": "Python 3",
   "language": "python",
   "name": "python3"
  },
  "language_info": {
   "codemirror_mode": {
    "name": "ipython",
    "version": 3
   },
   "file_extension": ".py",
   "mimetype": "text/x-python",
   "name": "python",
   "nbconvert_exporter": "python",
   "pygments_lexer": "ipython3",
   "version": "3.12.4"
  }
 },
 "nbformat": 4,
 "nbformat_minor": 2
}
